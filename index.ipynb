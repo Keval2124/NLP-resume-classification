{
  "cells": [
    {
      "cell_type": "code",
      "execution_count": null,
      "metadata": {
        "id": "Zd7TS-3-AfYH"
      },
      "outputs": [],
      "source": [
        "!pip install PyPDF2\n",
        "!pip install spacy\n",
        "!pip install jsonlines\n",
        "\n",
        "# spaCy\n",
        "!python -m spacy download en_core_web_lg\n",
        "\n",
        "#skils\n",
        "!pip install git+https://github.com/pandmi/jobzilla_ai/blob/main/jz_skill_patterns.jsonl\n"
      ]
    },
    {
      "cell_type": "code",
      "execution_count": null,
      "metadata": {
        "colab": {
          "base_uri": "https://localhost:8080/"
        },
        "id": "Nx-nR9n9koJG",
        "outputId": "8008c0f3-1588-4619-c56a-7959769b0e73"
      },
      "outputs": [],
      "source": [
        "import PyPDF2\n",
        "\n",
        "text = ''\n",
        "# Open the PDF file\n",
        "with open('resume.pdf', 'rb') as file:\n",
        "\n",
        "    # Create a PDF reader object\n",
        "    pdf_reader = PyPDF2.PdfReader(file)\n",
        "    # Loop over all pages and extract text\n",
        "\n",
        "    for page_num in range(len(pdf_reader.pages)):\n",
        "        page = pdf_reader.pages[page_num]\n",
        "        page_text = page.extract_text()\n",
        "        text += page_text\n",
        "\n",
        "    # Print the extracted text from all pages\n",
        "    print(text)\n"
      ]
    },
    {
      "cell_type": "code",
      "execution_count": null,
      "metadata": {
        "colab": {
          "base_uri": "https://localhost:8080/"
        },
        "id": "kmxESLhy2_Si",
        "outputId": "18437841-2fc7-4f7c-aae8-1b32d9927704"
      },
      "outputs": [],
      "source": [
        "job = []\n",
        "while True:\n",
        "    j = input(\"Enter which type of Job would like to be mostly highligted ?(or 'q' to quit): \")\n",
        "    if j == 'q':\n",
        "        break\n",
        "    if not isinstance(j, str):\n",
        "        print(\"Invalid input! Please enter a valid string.\")\n",
        "        continue\n",
        "    job1 = {\"label\": \"JOB_TYPE\", \"pattern\": j.lower()}\n",
        "    job2 = {\"label\": \"JOB_TYPE\", \"pattern\": j.upper()}\n",
        "    job3 = {\"label\": \"JOB_TYPE\", \"pattern\": j.title()}\n",
        "    job.extend([job1, job2, job3])\n",
        "\n",
        "print(job)"
      ]
    },
    {
      "cell_type": "code",
      "execution_count": null,
      "metadata": {
        "colab": {
          "base_uri": "https://localhost:8080/"
        },
        "id": "jYPMWxYh6MOT",
        "outputId": "7aca86c6-93df-497a-df26-992c688f5e9c"
      },
      "outputs": [],
      "source": [
        "main_skill = []\n",
        "while True:\n",
        "    msk = input(\"Enter which type of skill would you like to be mostly highlighted? (or 'q' to quit): \")\n",
        "    if msk == 'q':\n",
        "        break\n",
        "    if not isinstance(msk, str):\n",
        "        print(\"Invalid input! Please enter a valid string.\")\n",
        "        continue\n",
        "    main_skill1 = {\"label\": \"main_skill\", \"pattern\": msk.lower()}\n",
        "    main_skill2 = {\"label\": \"main_skill\", \"pattern\": msk.upper()}\n",
        "    main_skill3 = {\"label\": \"main_skill\", \"pattern\": msk.title()}\n",
        "    main_skill.extend([main_skill1, main_skill2, main_skill3])\n",
        "\n",
        "print(main_skill)"
      ]
    },
    {
      "cell_type": "code",
      "execution_count": null,
      "metadata": {
        "id": "EbiwWiYJ2Juu"
      },
      "outputs": [],
      "source": [
        "import spacy\n",
        "from spacy.pipeline import EntityRuler\n",
        "from spacy.matcher import Matcher\n",
        "import json\n",
        "\n",
        "nlp = spacy.load(\"en_core_web_lg\")\n",
        "ruler = nlp.add_pipe(\"entity_ruler\", before=\"ner\")\n",
        "\n",
        "# Define the patterns first\n",
        "skills = []\n",
        "with open(\"/content/jobzilla_ai/jz_skill_patterns.jsonl\") as f:\n",
        "    for line in f:\n",
        "        pattern = json.loads(line)\n",
        "        skills.append(pattern)\n",
        "\n",
        "# Add the patterns to the ruler\n",
        "ruler.add_patterns(job)\n",
        "ruler.add_patterns(main_skill)\n",
        "ruler.add_patterns(skills)\n"
      ]
    },
    {
      "cell_type": "code",
      "execution_count": null,
      "metadata": {
        "id": "TM4m4hukb_f3"
      },
      "outputs": [],
      "source": [
        "matcher = Matcher(nlp.vocab)\n",
        "\n",
        "edu_patterns = [\n",
        "    [{\"LOWER\": {\"IN\": [\"bachelor\", \"master\", \"phd\"]}}, {\"IS_PUNCT\": True, \"OP\": \"?\"}, {\"LOWER\": {\"IN\": [\"of\", \"in\"]}}, {\"IS_TITLE\": True, \"OP\": \"?\"}, {\"POS\": \"PROPN\"}],\n",
        "    [{\"LOWER\": {\"IN\": [\"bs\",\"bca\",\"be\",\"bsc\", \"ms\", \"phd\"]}}, {\"IS_PUNCT\": True, \"OP\": \"?\"}, {\"LOWER\": {\"IN\": [\"of\", \"in\"]}}, {\"IS_TITLE\": True, \"OP\": \"?\"}, {\"POS\": \"PROPN\"}],\n",
        "    [{\"LOWER\": \"diploma\"}, {\"IS_PUNCT\": True, \"OP\": \"?\"}, {\"IS_TITLE\": True, \"OP\": \"?\"}, {\"POS\": \"PROPN\"}],\n",
        "    [{\"LOWER\": \"certificate\"}, {\"IS_PUNCT\": True, \"OP\": \"?\"}, {\"IS_TITLE\": True, \"OP\": \"?\"}, {\"POS\": \"PROPN\"}],\n",
        "    [{\"LOWER\": {\"IN\": [\"undergraduate\", \"graduate\", \"degree\"]}}, {\"IS_PUNCT\": True, \"OP\": \"?\"}, {\"LOWER\": {\"IN\": [\"of\", \"in\"]}}, {\"IS_TITLE\": True, \"OP\": \"?\"}, {\"POS\": \"PROPN\"}],\n",
        "    [{\"LOWER\": {\"IN\": [\"high\", \"secondary\"]}}, {\"LOWER\": \"school\"}, {\"IS_PUNCT\": True, \"OP\": \"?\"}, {\"IS_TITLE\": True, \"OP\": \"?\"}, {\"POS\": \"PROPN\"}],\n",
        "    [{\"LOWER\": \"college\"}, {\"IS_PUNCT\": True, \"OP\": \"?\"}, {\"IS_TITLE\": True, \"OP\": \"?\"}, {\"POS\": \"PROPN\"}],\n",
        "    [{\"LOWER\": \"university\"}, {\"IS_PUNCT\": True, \"OP\": \"?\"}, {\"IS_TITLE\": True, \"OP\": \"?\"}, {\"POS\": \"PROPN\"}],\n",
        "]\n",
        "matcher.add(\"EDUCATION\", edu_patterns, on_match=None)"
      ]
    },
    {
      "cell_type": "code",
      "execution_count": null,
      "metadata": {
        "colab": {
          "base_uri": "https://localhost:8080/"
        },
        "id": "0o0_WCGP0iBK",
        "outputId": "3619c4b4-7a0d-4215-8d05-b1308308cbae"
      },
      "outputs": [],
      "source": [
        "for pattern in ruler.patterns:\n",
        "    print(pattern.get(\"label\"))"
      ]
    },
    {
      "cell_type": "code",
      "execution_count": null,
      "metadata": {
        "colab": {
          "base_uri": "https://localhost:8080/"
        },
        "id": "kW3pYs8jLAbI",
        "outputId": "c34dad75-6fea-4c6a-9187-32faee9d3b15"
      },
      "outputs": [],
      "source": [
        "from spacy import displacy\n",
        "\n",
        "doc = nlp(text)\n",
        "\n",
        "displacy.render(doc, style=\"ent\", jupyter=True)\n",
        "\n",
        "jobs = []\n",
        "main_skill = []\n",
        "\n",
        "for ent in doc.ents:\n",
        "    if ent.label_ == \"JOB_TYPE\":\n",
        "        jobs.append(ent.text.lower())\n",
        "    elif ent.label_ == \"main_skill\":\n",
        "        main_skill.append(ent.text.lower())\n",
        "\n",
        "jobs = list(set(jobs))\n",
        "main_skill = list(set(main_skill))\n",
        "\n",
        "print(\"Jobs:\", \", \".join(jobs))\n",
        "print(\"Main Skills:\", \", \".join(main_skill))"
      ]
    },
    {
      "cell_type": "code",
      "execution_count": null,
      "metadata": {
        "colab": {
          "base_uri": "https://localhost:8080/"
        },
        "id": "a8u0TFLRruPN",
        "outputId": "70238fe7-e422-491f-8efb-c16d6fc4d701"
      },
      "outputs": [],
      "source": [
        "import re\n",
        "\n",
        "for ent in doc.ents:\n",
        "    if ent.label_ == \"PERSON\":\n",
        "        name = ent.text\n",
        "        break\n",
        "\n",
        "# Extract the candidate's email address\n",
        "email = None\n",
        "email_re = re.compile(r\"[^\\s@]+@[^\\s@]+\\.[^\\s@]+\")\n",
        "matches = email_re.findall(text)\n",
        "if matches:\n",
        "    email = matches[0]\n",
        "\n",
        "# Extract the candidate's phone number\n",
        "phone = None\n",
        "phone_re = re.compile(r\"\\(?\\d{3}\\)?[-.\\s]?\\d{3}[-.\\s]?\\d{4}\")\n",
        "matches = phone_re.findall(text)\n",
        "if matches:\n",
        "    phone = matches[0]\n",
        "\n",
        "# Extract the candidate's work experiencs\n",
        "\n",
        "work_experience = []\n",
        "for sent in doc.sents:\n",
        "    if (\"work\" in sent.text.lower() or \"experience\" in sent.text.lower() or \"internship\" in sent.text.lower() or \"inter\" in sent.text.lower() ) and not (\"interests\" in sent.text.lower() or \"hobbies\" in sent.text.lower() or \"skill\" in sent.text.lower()):\n",
        "        work_experience.append(sent.text)\n",
        "work_experience = '\\n'.join(work_experience)\n",
        "\n",
        "SKILL = []\n",
        "for ent in doc.ents:\n",
        "    if ent.label_ == \"SKILL\":\n",
        "        SKILL.append(ent.text)\n",
        "\n",
        "jobs = []\n",
        "main_skill = []\n",
        "\n",
        "for ent in doc.ents:\n",
        "    if ent.label_ == \"JOB_TYPE\":\n",
        "        jobs.append(ent.text.lower())\n",
        "    elif ent.label_ == \"main_skill\":\n",
        "        main_skill.append(ent.text.lower())\n",
        "\n",
        "jobs = list(set(jobs))\n",
        "main_skill = list(set(main_skill))\n",
        "\n",
        "# Print the extracted information\n",
        "print(f\"Name: {name}\")\n",
        "print(\"-----------------------------------------\")\n",
        "print(f\"Email: {email}\")\n",
        "print(\"-----------------------------------------\")\n",
        "print(f\"Phone: {phone}\")\n",
        "print(\"----------------------------------------------------------------------------------\")\n",
        "print(\"Jobs:\", \", \".join(jobs))\n",
        "print(\"----------------------------------------------------------------------------------\")\n",
        "print(\"Main Skills:\", \", \".join(main_skill))\n",
        "print(\"----------------------------------------------------------------------------------\")\n",
        "print(\"Work Experience:\" , work_experience)\n",
        "print(\"----------------------------------------------------------------------------------\")\n",
        "matches = matcher(doc)\n",
        "for match_id, start, end in matches:\n",
        "    print(\"Education:\" ,doc[start:end])\n",
        "print(\"----------------------------------------------------------------------------------\")\n",
        "SKILL = list(set(SKILL))\n",
        "print(\"SKILL:\")\n",
        "for edu in SKILL:\n",
        "    print(f\"- {edu}\")"
      ]
    }
  ],
  "metadata": {
    "colab": {
      "provenance": []
    },
    "kernelspec": {
      "display_name": "Python 3",
      "name": "python3"
    },
    "language_info": {
      "name": "python"
    }
  },
  "nbformat": 4,
  "nbformat_minor": 0
}
